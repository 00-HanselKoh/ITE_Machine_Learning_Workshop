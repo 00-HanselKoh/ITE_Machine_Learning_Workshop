{
 "cells": [
  {
   "cell_type": "markdown",
   "metadata": {},
   "source": [
    "<img src=\"https://maltem.com/wp-content/uploads/2020/04/LOGO_MALTEM.png\" style=\"float: left; margin: 20px; height: 55px\">\n",
    "\n",
    "<br>\n",
    "<br>\n",
    "<br>\n",
    "<br>\n",
    "\n",
    "# Principles of Data Visualization, Part 1\n",
    "\n",
    "_Authors: Mahesh"
   ]
  },
  {
   "cell_type": "markdown",
   "metadata": {},
   "source": [
    "<img src=\"./images/viz_imp.png\" alt=\"drawing\" width=\"400\"/>\n",
    "\n",
    "Visualizing data is a powerful way to help your audience remember what you are saying and to help you better understand your data ([*source*](https://www.finereport.com/en/data-visualization/data-visualization-2.html))."
   ]
  },
  {
   "cell_type": "markdown",
   "metadata": {
    "collapsed": true
   },
   "source": [
    "### Packages Today\n",
    "- [NumPy](http://www.numpy.org/): Numerical Python - scalars, vectors, matrices, etc. and tools for manipulating them.\n",
    "- [Pandas](https://pandas.pydata.org/): Python Data Analysis Library - storing/\"munging\" (cleaning/transforming) data.\n",
    "- [Matplotlib](https://matplotlib.org/): Python plotting library - this is (unsurprisingly) what we'll use to plot things!\n",
    "- [Seaborn](https://seaborn.pydata.org/): Statistical Visualization Library - this is commonly used for more complicated visuals (we'll ignore most of these because they're often less accessible to stakeholders)."
   ]
  },
  {
   "cell_type": "markdown",
   "metadata": {},
   "source": [
    "<details><summary>Let's get started with a question: what is the point of creating a visualization for data?</summary>\n",
    "    \n",
    "- \"Use a picture. It's worth a thousand words.\" - Tess Flanders, 1911\n",
    "- We generally use visualizations in order to efficiently and/or effectively communicate information.\n",
    "</details>"
   ]
  },
  {
   "cell_type": "markdown",
   "metadata": {},
   "source": [
    "<details><summary>We often generate data visualizations for exploratory analysis or explanatory analysis. What is the difference?</summary>\n",
    "    \n",
    "- Exploratory analysis is when we are exploring our data, like identifying patterns or discovering outliers.\n",
    "- Explanatory analysis is when we are communicating (explaining) our results to a client, boss, stakeholder, etc.\n",
    "</details>\n",
    "\n",
    "Today, we will focus on **explanatory analysis**. Many of these tools will be transferable to exploratory analysis.\n",
    "\n",
    "### LEARNING OBJECTIVES \n",
    "1. Identify what type of visualization may be appropriate for a given scenario.\n",
    "2. Generate text, bar graphs, histograms, tables, heatmaps, scatterplots, line plots in `matplotlib`.\n",
    "3. Critique data visualizations and implement changes in `matplotlib`."
   ]
  },
  {
   "cell_type": "code",
   "execution_count": 2,
   "metadata": {},
   "outputs": [],
   "source": [
    "# Importing NumPy and Pandas.\n",
    "\n",
    "\n",
    "# Importing matplotlib.pyplot - the specific plotting API \n",
    "# https://matplotlib.org/api/pyplot_api.html\n",
    "\n",
    "\n",
    "# Import Seaborn.\n"
   ]
  },
  {
   "cell_type": "markdown",
   "metadata": {},
   "source": [
    "<details><summary>Let's bring in the Stock data.</summary>\n",
    "    \n",
    "![](https://i.ytimg.com/vi/if-2M3K1tqk/maxresdefault.jpg)\n",
    "</details>"
   ]
  },
  {
   "cell_type": "code",
   "execution_count": 3,
   "metadata": {},
   "outputs": [],
   "source": [
    "# Bring in stock data.\n",
    "\n",
    "\n",
    "# Convert stock date to datetime.\n"
   ]
  },
  {
   "cell_type": "code",
   "execution_count": 4,
   "metadata": {},
   "outputs": [],
   "source": [
    "# Check out the first five rows of the stocks data.\n",
    "\n"
   ]
  },
  {
   "cell_type": "code",
   "execution_count": 5,
   "metadata": {},
   "outputs": [],
   "source": [
    "# Display the different weekdays and how frequently we observe each of them.\n"
   ]
  },
  {
   "cell_type": "code",
   "execution_count": 6,
   "metadata": {},
   "outputs": [],
   "source": [
    "# Display the different stock tickers and how frequently we observe each of them.\n"
   ]
  },
  {
   "cell_type": "markdown",
   "metadata": {
    "collapsed": true
   },
   "source": [
    "## Pros and Cons of Visuals\n",
    "\n",
    "There are many ways to visualize the same data. [This FlowingData post](https://flowingdata.com/2017/01/24/one-dataset-visualized-25-ways/) by Nathan Yau shows the same data visualized 25 different ways. Two of the 25 examples are shown below.\n",
    "\n",
    "<img src=\"./images/country-v-average.png\" alt=\"drawing\" width=\"800\"/>\n",
    "\n",
    "<img src=\"./images/country-over-time.png\" alt=\"drawing\" width=\"900\"/>\n",
    "\n",
    "- If we Google \"data visualization tools,\" we will quickly get overwhelmed with all of the data visualization libraries that are out there. (Tableau, R/Python, Images in Google Sheets, D3.js, Microsoft Paint...)\n",
    "- If we Google \"good data visualizations,\" we'll see lots of amazing images/videos/dashboards/apps with really high production values, but we recognize that we won't be able to easily replicate these.\n",
    "- If we head to [viz.wtf](http://viz.wtf), we can see lots of images that show us what **not** to do... but not what **to** do!"
   ]
  },
  {
   "cell_type": "markdown",
   "metadata": {},
   "source": [
    "### If-This-Then-That Rules\n",
    "\n",
    "I'm not a visual designer. Instead, I like things that are rule-oriented. I want to attempt to break \"picking a good visualization\" down into a set of \"if-this-then-that\" rules. \n",
    "- **This won't be a perfect, \"one-size-fits-all\" set of rules.**\n",
    "- There will be situations in which you want to \"break\" these rules. If you have the time, the energy, and/or the creativity... then break them!\n",
    "- Hopefully this is a \"one-size-fits-_most_\" set of rules.\n",
    "\n",
    "### Qualitative vs. Quantitative Variables\n",
    "- Quantitative variables (commonly called numerical variables) are variables that are measured on a numeric scale.\n",
    "    - Stock price at closing bell.\n",
    "    - Volume of stocks traded.\n",
    "- Qualitative variables (commonly called categorical variables) are variables that are not measured on a numeric scale.\n",
    "    - Days of the week.\n",
    "    - Stock ticker."
   ]
  },
  {
   "cell_type": "markdown",
   "metadata": {},
   "source": [
    "### If you are reporting one or two numbers, then:\n",
    "- simply state the numbers, or\n",
    "- compare numbers using a bar chart."
   ]
  },
  {
   "cell_type": "markdown",
   "metadata": {},
   "source": [
    "**Example 1**: Suppose we wanted to compare the performance of the AAPL stock to the Google stock on Google's first day of trading (August 19, 2004) using a bar chart."
   ]
  },
  {
   "cell_type": "code",
   "execution_count": null,
   "metadata": {},
   "outputs": [],
   "source": [
    "# save AAPL Closing Stock Price on August 19, 2004 as variables\n",
    "\n",
    "# save GOOG Closing Stock Price on August 19, 2004 as variables\n"
   ]
  },
  {
   "cell_type": "code",
   "execution_count": null,
   "metadata": {
    "scrolled": true
   },
   "outputs": [],
   "source": [
    "# Set size of figure: eight by five.\n",
    "plt.figure(figsize = (8, 5))\n",
    "\n",
    "# Create a bar chart.\n",
    "# plt.bar() will create a vertical bar chart.\n",
    "\n",
    "\n",
    "# Add a title and show the plot.\n"
   ]
  },
  {
   "cell_type": "markdown",
   "metadata": {},
   "source": [
    "**If you are reporting one or two numbers**, then:\n",
    "- simply state the numbers, or\n",
    "- compare numbers using a bar chart.\n",
    "\n",
    "What you choose to do depends on the time and energy you have.\n",
    "\n",
    "Remember that it is usually a bad idea to just report one number!\n",
    "\n",
    "Let's compare multiple numbers in a bar chart."
   ]
  },
  {
   "cell_type": "markdown",
   "metadata": {},
   "source": [
    "**Example 2:** Let's say we want to compare the maximum closing price for various tickers. \n",
    "\n",
    "In the book *Storytelling with Data*, the author talks about utilizing color and text in order to tell a story. Let's walk through that process."
   ]
  },
  {
   "cell_type": "code",
   "execution_count": null,
   "metadata": {},
   "outputs": [],
   "source": [
    "# find the maximum closing price\n"
   ]
  },
  {
   "cell_type": "code",
   "execution_count": null,
   "metadata": {},
   "outputs": [],
   "source": [
    "# maximum closing price\n"
   ]
  },
  {
   "cell_type": "code",
   "execution_count": null,
   "metadata": {},
   "outputs": [],
   "source": [
    "# maximum closing price\n"
   ]
  },
  {
   "cell_type": "code",
   "execution_count": null,
   "metadata": {},
   "outputs": [],
   "source": [
    "# maximum closing price\n"
   ]
  },
  {
   "cell_type": "code",
   "execution_count": null,
   "metadata": {},
   "outputs": [],
   "source": [
    "# plot it\n",
    "\n"
   ]
  },
  {
   "cell_type": "markdown",
   "metadata": {},
   "source": [
    "<details><summary>What are some things we can add to make this visualization better?</summary>\n",
    "    \n",
    "- Add a descriptive title\n",
    "- Add axis labels\n",
    "- Make plot bigger\n",
    "</details>"
   ]
  },
  {
   "cell_type": "code",
   "execution_count": null,
   "metadata": {},
   "outputs": [],
   "source": []
  },
  {
   "cell_type": "markdown",
   "metadata": {},
   "source": [
    "<details><summary>What do you want your stakeholders to see in this visualization?</summary>\n",
    "    \n",
    "- Google has a much higher maximum closing price than the others\n",
    "</details>"
   ]
  },
  {
   "cell_type": "markdown",
   "metadata": {},
   "source": [
    "We can use color and text to tell our story."
   ]
  },
  {
   "cell_type": "code",
   "execution_count": null,
   "metadata": {},
   "outputs": [],
   "source": []
  },
  {
   "cell_type": "markdown",
   "metadata": {},
   "source": [
    "Adding random color doesn't help us much, other than potentially making your plot more visually appealing. We can use color to draw the audience's eyes where we want them to look."
   ]
  },
  {
   "cell_type": "code",
   "execution_count": null,
   "metadata": {},
   "outputs": [],
   "source": []
  },
  {
   "cell_type": "markdown",
   "metadata": {},
   "source": [
    "We can also use text to tell the audience what we want them to learn from our visualizations."
   ]
  },
  {
   "cell_type": "code",
   "execution_count": null,
   "metadata": {},
   "outputs": [],
   "source": []
  },
  {
   "cell_type": "code",
   "execution_count": null,
   "metadata": {},
   "outputs": [],
   "source": []
  },
  {
   "cell_type": "markdown",
   "metadata": {},
   "source": [
    "---\n",
    "\n",
    "#### Commonly, we want to visualize *distributions*.\n",
    "- The **distribution** of a variable is 1) the set of all values of that variable and 2) how frequently we observe each value.\n",
    "\n",
    "<img src=\"./images/household_income.png\" alt=\"drawing\" width=\"525\"/>\n",
    "\n",
    "- This is a visual representation of all of our data. We can then use this to answer lots of other questions.\n",
    "    - What is the likeliest income for a household to have?\n",
    "    - What is the range of incomes?\n",
    "    - How likely is it that a household has an income above 50,000 dollars? Between 100,000 and 150,000 dollars?\n",
    "\n",
    "### If your goal is to visualize the distribution of one variable, then:\n",
    "- if that variable is qualitative: **use a bar chart**.\n",
    "- if that variable is quantitative: **use a histogram**."
   ]
  },
  {
   "cell_type": "markdown",
   "metadata": {},
   "source": [
    "**Example 3**: Suppose we wanted to visualize the distribution of stock tickers. (That is, how many values did we observe for each ticker?)"
   ]
  },
  {
   "cell_type": "code",
   "execution_count": null,
   "metadata": {},
   "outputs": [],
   "source": []
  },
  {
   "cell_type": "code",
   "execution_count": null,
   "metadata": {},
   "outputs": [],
   "source": [
    "# Create a bar chart.\n",
    "# plt.bar() will create a vertical bar chart.\n",
    "# We have to pass in our X (labels) and Y (values).\n",
    "plt.bar(['SBUX', 'INTC', 'NKE', 'AAPL', 'YHOO', 'DOW', 'GOOG', 'NDAQ'],\n",
    "        stocks['ticker'].value_counts())\n",
    "\n",
    "# Add a title and show the plot.\n",
    "plt.title('Number of Closing Stock Prices Stored');"
   ]
  },
  {
   "cell_type": "markdown",
   "metadata": {},
   "source": [
    "**Example 4**: Suppose we wanted to visualize the distribution of stock values but write out the name instead of using the stock ticker. What's the problem here?"
   ]
  },
  {
   "cell_type": "code",
   "execution_count": null,
   "metadata": {},
   "outputs": [],
   "source": [
    "# Create a bar chart.\n",
    "# plt.bar() will create a vertical bar chart.\n",
    "# We have to pass in our X (labels) and Y (values).\n",
    "plt.bar(['Starbucks', 'Intel Corp.', 'Nike', 'Apple', 'Yahoo', 'Dow', 'Google', 'Nasdaq Inc.'],\n",
    "        stocks['ticker'].value_counts())\n",
    "\n",
    "# Add a title and show the plot.\n",
    "plt.title('Number of Closing Stock Prices Stored');"
   ]
  },
  {
   "cell_type": "markdown",
   "metadata": {},
   "source": [
    "**Example 5**: Suppose we wanted to visualize the distribution of stock values but write out the name instead of using the stock ticker. We can get around the above issue by creating a **horizontal bar chart**."
   ]
  },
  {
   "cell_type": "code",
   "execution_count": null,
   "metadata": {},
   "outputs": [],
   "source": [
    "# plt.barh() will create a horizontal bar chart. (Note the h at the end of bar!)\n",
    "# We have to pass in our values and labels again. Luckily, we don't need to swap the order!\n",
    "\n",
    "\n",
    "\n"
   ]
  },
  {
   "cell_type": "markdown",
   "metadata": {},
   "source": [
    "**Example 6**: Suppose we wanted to visualize the distribution of closing stock prices for `SBUX`. Since this is a quantitative variable, we will use a **histogram**."
   ]
  },
  {
   "cell_type": "code",
   "execution_count": null,
   "metadata": {},
   "outputs": [],
   "source": [
    "# Return all closing stock prices for SBUX ticker\n"
   ]
  },
  {
   "cell_type": "code",
   "execution_count": null,
   "metadata": {},
   "outputs": [],
   "source": [
    "plt.hist()\n",
    "plt.title('Closing Stock Prices for SBUX');"
   ]
  },
  {
   "cell_type": "code",
   "execution_count": null,
   "metadata": {},
   "outputs": [],
   "source": []
  },
  {
   "cell_type": "markdown",
   "metadata": {},
   "source": [
    "- Note that histograms are easier to produce. When dealing with qualitative variables, we need to tell our bar chart what the X values are. When dealing with quantitative variables, the histogram can infer what it is!\n",
    "- However, also note that histograms can vary wildly based on how many bins (\"categories\") there are."
   ]
  },
  {
   "cell_type": "code",
   "execution_count": null,
   "metadata": {},
   "outputs": [],
   "source": []
  },
  {
   "cell_type": "code",
   "execution_count": null,
   "metadata": {},
   "outputs": [],
   "source": []
  },
  {
   "cell_type": "code",
   "execution_count": null,
   "metadata": {},
   "outputs": [],
   "source": []
  },
  {
   "cell_type": "markdown",
   "metadata": {},
   "source": [
    "There is no best number of bins and any guidelines about number of bins will usually depend on the shape of the data. \n",
    "- ***My \"best practice\" recommendation***: Add a kernel density estimate (`kde`) that will attempt to estimate what the true probability density function (pdf) will look like. This can be done (easily) in `seaborn`, a Python visualization library built on top of `matplotlib`."
   ]
  },
  {
   "cell_type": "code",
   "execution_count": null,
   "metadata": {},
   "outputs": [],
   "source": [
    "sns.distplot(stocks[stocks['ticker'] == 'SBUX']['close'], bins = 10, kde = True);"
   ]
  },
  {
   "cell_type": "code",
   "execution_count": null,
   "metadata": {},
   "outputs": [],
   "source": []
  },
  {
   "cell_type": "markdown",
   "metadata": {},
   "source": [
    "- ***My \"best practice\" recommendation***: Note that a kernel density estimate might be confusing to some stakeholders (clients, boss, etc.). Consider using `kde = True` only for exploratory visualization.\n",
    "    \n",
    "---\n",
    "\n",
    "**Practice**: Visualize the distribution of `GOOG` closing prices. Generate it with a kernel density estimate and tweak the number of bins to get as close to the kde as possible, then generate your plot in a way you'd likely present it to a stakeholder."
   ]
  },
  {
   "cell_type": "code",
   "execution_count": null,
   "metadata": {},
   "outputs": [],
   "source": []
  },
  {
   "cell_type": "code",
   "execution_count": null,
   "metadata": {},
   "outputs": [],
   "source": []
  },
  {
   "cell_type": "markdown",
   "metadata": {},
   "source": [
    "**If your goal is to visualize the distribution of one variable**, then:\n",
    "- if that variable is qualitative: use a bar chart.\n",
    "- if that variable is quantitative: use a histogram.\n",
    "\n",
    "Remember that if you are visualizing with a histogram, then your number of bins might substantially affect how your distribution looks, especially for small sample sizes. Consider using a kernel density estimate to help you visualize a smooth distribution of your data during your **exploratory** phase, but you *may* want to exclude the kde for your **explanatory** (reporting) phase."
   ]
  },
  {
   "cell_type": "markdown",
   "metadata": {},
   "source": [
    "## Bonus (Optional): Text\n",
    "\n",
    "**Practice**: Suppose we wanted to quantify the performance of the AAPL stock over time."
   ]
  },
  {
   "cell_type": "code",
   "execution_count": null,
   "metadata": {},
   "outputs": [],
   "source": [
    "# AAPL Closing Stock Price on January 2, 1998. \n",
    "\n",
    "\n",
    "# AAPL Closing Stock Price on August 9, 2013.\n"
   ]
  },
  {
   "cell_type": "code",
   "execution_count": null,
   "metadata": {},
   "outputs": [],
   "source": [
    "# Percent change formula: 100 * (value_2 - value_1) / |value_1|\n",
    "\n",
    "aapl_pct_change ="
   ]
  },
  {
   "cell_type": "code",
   "execution_count": null,
   "metadata": {},
   "outputs": [],
   "source": [
    "# Set size of figure: eight by five.\n",
    "plt.figure(figsize = (8, 5))\n",
    "\n",
    "# Create text:\n",
    "plt.text(x = 0.5,                              # at horizontal = 0.5\n",
    "         y = 0.9,                              # at vertical = 0.9\n",
    "         s = 'Apple\\'s stock price increased', # content of text (string)\n",
    "         ha = 'center',                        # center-aligned horizontally\n",
    "         va = 'center',                        # center-aligned vertically\n",
    "         size = 35,                            # font size = 35\n",
    "         alpha = 0.6)                          # alpha = 0.6 --> 60% opaque; 40% clear\n",
    "\n",
    "\n",
    "# Create text:\n",
    "# at (horizontal = 0.5, vertical = 0.55)\n",
    "# stating the percent change (s means string)\n",
    "# center-aligned\n",
    "# font size 125\n",
    "# alpha = 1 --> totally opaque\n",
    "\n",
    "plt.text(x = 0.5,\n",
    "         y = 0.55,\n",
    "         s = str(round(pct_change)) + '%',\n",
    "         ha = 'center',\n",
    "         va = 'center',\n",
    "         size = 125,\n",
    "         alpha = 1)\n",
    "\n",
    "# Create text:\n",
    "# at (horizontal = 0.5, vertical = 0.25)\n",
    "# stating \"between January 1998 and August 2013\"\n",
    "# with a line break in between \"1998\" and \"and\"\n",
    "# center-aligned\n",
    "# font size 35\n",
    "# alpha = 0.6 --> 40% clear; 60% opaque\n",
    "plt.text(x = 0.5,\n",
    "         y = 0.2,\n",
    "         s = 'between January 1998\\nand August 2013.',\n",
    "         ha = 'center',\n",
    "         va = 'center',\n",
    "         size = 35,\n",
    "         alpha = 0.6)\n",
    "\n",
    "# No axes.\n",
    "plt.axis('off');"
   ]
  },
  {
   "cell_type": "markdown",
   "metadata": {},
   "source": [
    "It is often a bad idea to simply report one number. By giving only one number, we can often be misleading. Let's avoid this!\n",
    "- I got a 74% on my last exam.\n",
    "    - I got a 74% on my last exam. The class average was a 56%.\n",
    "- There were 62,984,828 votes cast for Trump in the 2016 Presidential election.\n",
    "    - There were 65,853,514 votes cast for Clinton and 62,984,828 votes cast for Trump in the 2016 Presidential election.\n",
    "- Our company earned 5MM (five million) dollars last year.\n",
    "    - Our company earned 5MM last year. This is our highest yet; our company had an average of 2MM in revenue over all previous years.\n",
    "\n",
    "\n",
    "- ***My \"best practice\" recommendation***: Rather than reporting one number, provide context by comparing multiple numbers.\n",
    "\n",
    "---"
   ]
  },
  {
   "cell_type": "markdown",
   "metadata": {},
   "source": [
    "Identifying the right combination of `figsize`, `x`, `y`, `size`, line breaks (`\\n`) in `s`, and so on will mostly be done through guess-and-check. \n",
    "- ***My \"best practice\" recommendation***: copy what exists now to your next use, then tweak as needed!"
   ]
  },
  {
   "cell_type": "markdown",
   "metadata": {},
   "source": [
    "---\n",
    "**Practice**: Report that `GOOG` (Google) grew from 100.76 in August 2004 to 890.31 in August 2013. (I've given you the `goog_pct_change` below.) Be sure to compare it to another number!"
   ]
  },
  {
   "cell_type": "code",
   "execution_count": null,
   "metadata": {},
   "outputs": [],
   "source": [
    "goog_pct_change = "
   ]
  },
  {
   "cell_type": "code",
   "execution_count": null,
   "metadata": {},
   "outputs": [],
   "source": [
    "# Set size of figure: ten by seven.\n",
    "\n",
    "\n",
    "# Create text:\n",
    "# at (horizontal = 0.5, vertical = 0.55)\n",
    "# stating the percent change (s means string)\n",
    "# center-aligned\n",
    "# font size 225\n",
    "# alpha = 0.9\n",
    "\n",
    "\n",
    "\n",
    "# Create text:\n",
    "# at (horizontal = 0.5, vertical = 0.15)\n",
    "# stating \"in Google's stock price, compared to 100% increase in the Dow.\"\n",
    "# center-aligned\n",
    "# font size 45\n",
    "# alpha = 0.5\n",
    "\n",
    "\n",
    "\n",
    "# No axes.\n"
   ]
  },
  {
   "cell_type": "markdown",
   "metadata": {},
   "source": [
    "As Einstein said, \"Everything should be as simple as it can be, but not simpler.\" This is pretty simple. If it works... use it!\n",
    "- It's not lost in a table.\n",
    "- It's very clearly calling out what we want to emphasize.\n",
    "- Understanding `x`, `y`, `fontsize`, etc. will be helpful later if we want to annotate a plot with text.\n",
    "\n",
    "![](./images/wordart.png)\n",
    "\n",
    "---"
   ]
  }
 ],
 "metadata": {
  "kernelspec": {
   "display_name": "Python 3",
   "language": "python",
   "name": "python3"
  },
  "language_info": {
   "codemirror_mode": {
    "name": "ipython",
    "version": 3
   },
   "file_extension": ".py",
   "mimetype": "text/x-python",
   "name": "python",
   "nbconvert_exporter": "python",
   "pygments_lexer": "ipython3",
   "version": "3.8.5"
  }
 },
 "nbformat": 4,
 "nbformat_minor": 2
}
