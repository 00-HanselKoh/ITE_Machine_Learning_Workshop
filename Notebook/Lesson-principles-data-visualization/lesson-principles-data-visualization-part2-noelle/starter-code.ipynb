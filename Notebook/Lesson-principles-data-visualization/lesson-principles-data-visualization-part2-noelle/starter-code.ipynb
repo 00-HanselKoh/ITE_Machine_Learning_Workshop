{
 "cells": [
  {
   "cell_type": "markdown",
   "metadata": {},
   "source": [
    "<img src=\"https://maltem.com/wp-content/uploads/2020/04/LOGO_MALTEM.png\" style=\"float: left; margin: 20px; height: 55px\">\n",
    "\n",
    "<br>\n",
    "<br>\n",
    "<br>\n",
    "<br>\n",
    "\n",
    "# Principles of Data Visualization, Part 2\n",
    "\n",
    "_Authors: Mahesh"
   ]
  },
  {
   "cell_type": "markdown",
   "metadata": {},
   "source": [
    "<img src=\"./images/bad_viz.png\" alt=\"drawing\" width=\"500\"/>\n",
    "\n",
    "<details><summary>Let's break down the data visualization above. What should they do differently?</summary>\n",
    "    \n",
    "- The percentages make no sense to visualize since they don't add up to 100%\n",
    "- In general, it's not a great idea to visualize percentages using a shape where is hard to calculate the volume. This is because the percentages/fractions will not align to the actual volume of the shape. Stick to rectangles to make this easily interpretable!\n",
    "</details>\n",
    "\n",
    "[Image Source](https://gizmodo.com/8-horrible-data-visualizations-that-make-no-sense-1228022038)"
   ]
  },
  {
   "cell_type": "markdown",
   "metadata": {
    "collapsed": true
   },
   "source": [
    "### Packages Today\n",
    "- [NumPy](http://www.numpy.org/): Numerical Python - scalars, vectors, matrices, etc. and tools for manipulating them.\n",
    "- [Pandas](https://pandas.pydata.org/): Python Data Analysis Library - storing/\"munging\" (cleaning/transforming) data.\n",
    "- [Matplotlib](https://matplotlib.org/): Python plotting library - this is (unsurprisingly) what we'll use to plot things!\n",
    "- [Bokeh](https://bokeh.pydata.org/en/latest/): Interactive Visualization Library - this is (also unsurprisingly) what we'll use to generate interactive visualizations!\n",
    "- [Seaborn](https://seaborn.pydata.org/): Statistical Visualization Library - this is commonly used for more complicated visuals (we'll ignore most of these because they're often less accessible to stakeholders)."
   ]
  },
  {
   "cell_type": "markdown",
   "metadata": {},
   "source": [
    "### LEARNING OBJECTIVES \n",
    "1. Identify what type of visualization may be appropriate for a given scenario.\n",
    "2. Generate text, bar graphs, histograms, heatmaps, scatterplots, line plots in `matplotlib`.\n",
    "3. Critique data visualizations and implement changes in `matplotlib`."
   ]
  },
  {
   "cell_type": "code",
   "execution_count": null,
   "metadata": {},
   "outputs": [],
   "source": [
    "# Importing NumPy and Pandas.\n",
    "import numpy as np\n",
    "import pandas as pd\n",
    "\n",
    "# Importing matplotlib.pyplot - the specific plotting API \n",
    "# https://matplotlib.org/api/pyplot_api.html\n",
    "import matplotlib.pyplot as plt\n",
    "\n",
    "# Import Seaborn.\n",
    "import seaborn as sns"
   ]
  },
  {
   "cell_type": "code",
   "execution_count": null,
   "metadata": {},
   "outputs": [],
   "source": [
    "# Bring in stock data.\n",
    "\n",
    "\n",
    "# Convert stock date to datetime.\n"
   ]
  },
  {
   "cell_type": "code",
   "execution_count": null,
   "metadata": {},
   "outputs": [],
   "source": [
    "# Check out the first five rows of the stocks data.\n",
    "\n"
   ]
  },
  {
   "cell_type": "markdown",
   "metadata": {},
   "source": [
    "---\n",
    "\n",
    "#### Commonly, we want to visualize *relationships*.\n",
    "- The **relationship** between two variables allows us to understand if and how one variable changes when another changes.\n",
    "\n",
    "![](./images/scatter.jpeg)\n",
    "\n",
    "- This is a visual representation of all of our data. We can use this to answer lots of other questions.\n",
    "    - Does there appear to be any association between ice cream and murders?\n",
    "    - As ice cream consumption increases, how does the number of murders change?\n",
    "    - **Note: We cannot say anything about causality here!**\n",
    "\n",
    "### If your goal is to visualize the relationship between two variables, then:\n",
    "- if you are comparing two qualitative variables, **use a table or a heatmap**.\n",
    "- if you are comparing time and another quantitative variable, **use a lineplot**.\n",
    "- if you are comparing two (non-time) quantitative variables, **use a scatterplot**.\n",
    "- if you are comparing a qualitative variable and a quantitative variable, **use stacked histograms**."
   ]
  },
  {
   "cell_type": "markdown",
   "metadata": {},
   "source": [
    "**Example 1**: Suppose we wanted to examine the relationships between our variables."
   ]
  },
  {
   "cell_type": "markdown",
   "metadata": {},
   "source": [
    "A commonly seen implementation of a heatmap uses the [Seaborn library](https://seaborn.pydata.org)."
   ]
  },
  {
   "cell_type": "code",
   "execution_count": null,
   "metadata": {},
   "outputs": [],
   "source": [
    "stocks.head()"
   ]
  },
  {
   "cell_type": "code",
   "execution_count": null,
   "metadata": {},
   "outputs": [],
   "source": [
    "# This code is taken with minor modifications from https://seaborn.pydata.org/generated/seaborn.heatmap.html\n",
    "\n",
    "# Establish size of figure.\n",
    "plt.figure(figsize = (16,9))\n",
    "\n",
    "# Get correlation of variables.\n",
    "corr = stocks.corr()\n",
    "\n",
    "# Set up mask to be \"True\" in the upper triangle.\n",
    "mask = np.zeros_like(corr)\n",
    "mask[np.triu_indices_from(mask)] = True\n",
    "\n",
    "# Plot our correlation heatmap, while masking the upper triangle to be white.\n",
    "with sns.axes_style(\"white\"):\n",
    "    sns.heatmap(corr, mask = mask, square = True, annot = True, vmin = -1, vmax = 1, linewidths = .5)"
   ]
  },
  {
   "cell_type": "markdown",
   "metadata": {},
   "source": [
    "**Example 2**: Suppose we wanted to examine how stock volume changes over time for GOOG."
   ]
  },
  {
   "cell_type": "code",
   "execution_count": null,
   "metadata": {},
   "outputs": [],
   "source": [
    "# Get date column for Google stocks\n"
   ]
  },
  {
   "cell_type": "code",
   "execution_count": null,
   "metadata": {},
   "outputs": [],
   "source": [
    "# Get volume column for Google stocks\n"
   ]
  },
  {
   "cell_type": "code",
   "execution_count": null,
   "metadata": {},
   "outputs": [],
   "source": [
    "# Establish the size of the figure.\n",
    "plt.figure(figsize = (16, 9))\n",
    "\n",
    "# Create line plot of GOOG volume over time.\n"
   ]
  },
  {
   "cell_type": "markdown",
   "metadata": {},
   "source": [
    "**Example 3**: Suppose we wanted to examine how stock volume changes over time for GOOG *and* for NKE."
   ]
  },
  {
   "cell_type": "code",
   "execution_count": null,
   "metadata": {},
   "outputs": [],
   "source": [
    "# Establish the size of the figure.\n",
    "plt.figure(figsize = (16, 9))\n",
    "\n",
    "# Create line plot of GOOG volume over time.\n",
    "\n",
    "\n",
    "# Create line plot of NKE volume over time.\n",
    "\n"
   ]
  },
  {
   "cell_type": "markdown",
   "metadata": {},
   "source": [
    "**Example 4**: Suppose we wanted to examine how the stock volume changed from the first day of trading in 2012 to the first day of trading in 2013 for all stock tickers.\n",
    "- A **slopegraph** is what Cole Nussbaumer Knaflic refers to as a line graph with two points on the x-axis."
   ]
  },
  {
   "cell_type": "code",
   "execution_count": null,
   "metadata": {},
   "outputs": [],
   "source": [
    "# plot the change over time from 2012 to 2013 for Google volume\n",
    "plt.plot(stocks[(stocks['ticker'] == 'GOOG') & ((stocks['date'] == '2012-01-03') | (stocks['date'] == '2013-01-02'))]['date'],\n",
    "         stocks[(stocks['ticker'] == 'GOOG') & ((stocks['date'] == '2012-01-03') | (stocks['date'] == '2013-01-02'))]['volume'],\n",
    "         label = 'GOOG', marker = 'o')"
   ]
  },
  {
   "cell_type": "code",
   "execution_count": null,
   "metadata": {},
   "outputs": [],
   "source": [
    "# Establish the size of the figure.\n",
    "plt.figure(figsize = (16, 9))\n",
    "\n",
    "# Create line plot of all stock volumes over 2012.\n",
    "\n",
    "    \n",
    "plt.legend(loc = 'upper right')\n",
    "plt.ylabel(\"Volume in Millions\", fontsize = 24);"
   ]
  },
  {
   "cell_type": "markdown",
   "metadata": {},
   "source": [
    "**Example 5**: Suppose we wanted to visualize how strongly correlated high daily prices and daily trading volumes are."
   ]
  },
  {
   "cell_type": "code",
   "execution_count": null,
   "metadata": {},
   "outputs": [],
   "source": [
    "# Establish the size of the figure.\n",
    "plt.figure(figsize = (16, 9))\n",
    "\n",
    "# Create scatterplot of high prices versus volume.\n",
    "\n",
    "\n",
    "plt.title(\"High Daily Prices versus Daily Trading Volume\")\n",
    "plt.ylabel(\"Daily Trading Volume\", fontsize = 20)\n",
    "plt.xlabel(\"High Daily Price\", fontsize = 20);"
   ]
  },
  {
   "cell_type": "markdown",
   "metadata": {},
   "source": [
    "**Example 6**: Suppose you want to visualize the distribution of low prices for `GOOG`, `SBUX`, and `AAPL`."
   ]
  },
  {
   "cell_type": "code",
   "execution_count": null,
   "metadata": {
    "scrolled": false
   },
   "outputs": [],
   "source": [
    "# Establish figure size.\n",
    "plt.figure(figsize = (16,9))\n",
    "\n",
    "# We can create subplots, which allows us to have multiple subplots in the same plot.\n",
    "# plt.subplot(3, 1, 1) means we have 3 rows, 1 column, and are referencing plot 1.\n",
    "\n",
    "\n",
    "# plt.subplot(3, 1, 2) means we have 3 rows, 1 column, and are referencing plot 2.\n",
    "\n",
    "\n",
    "# plt.subplot(3, 1, 3) means we have 3 rows, 1 column, and are referencing plot 3.\n"
   ]
  },
  {
   "cell_type": "markdown",
   "metadata": {},
   "source": [
    "**Example 7**: Suppose you want to visualize the distribution of low prices for `GOOG`, `SBUX`, and `AAPL` but want to explicitly show the differences in means between the groups."
   ]
  },
  {
   "cell_type": "code",
   "execution_count": null,
   "metadata": {},
   "outputs": [],
   "source": [
    "# Establish figure size.\n",
    "plt.figure(figsize = (16,9))\n",
    "\n"
   ]
  },
  {
   "cell_type": "markdown",
   "metadata": {},
   "source": [
    "Some people will use stacked bar charts to visualize the distribution of variables broken out into categories. I generally prefer to not do this.\n",
    "- ***My \"best practice\" recommendation***: Stay away from stacked bar charts; there are usually better ways to communicate what you want to communicate."
   ]
  },
  {
   "cell_type": "markdown",
   "metadata": {},
   "source": [
    "![](./images/stacked-bar-chart.png)"
   ]
  },
  {
   "cell_type": "markdown",
   "metadata": {
    "collapsed": true
   },
   "source": [
    "### If-This-Then-That Rules\n",
    "- If I am stating one or two numbers, then:\n",
    "    - **simply report the numbers**.\n",
    "    - compare numbers using a **bar chart**.\n",
    "- If I am visualizing the distribution of one variable, then:\n",
    "    - If that variable is qualitative: **use a bar chart**.\n",
    "    - If that variable is quantitative: **use a histogram**.\n",
    "- If I am visualizing the relationship between two variables, then:\n",
    "    - If both variables are qualitative, then: \n",
    "        - If there are at most three categories for both variable, then **use a table**.\n",
    "        - If there are more than three categories in either variable, then **use a heatmap**.\n",
    "    - If both variables are quantitative, then:\n",
    "        - If one variable is time, then **use a line plot**.\n",
    "        - Otherwise, **use a scatterplot**.\n",
    "    - If one variable is quantitative and another is qualitative then:\n",
    "        - **Use a bunch of histograms**.\n",
    "        - Stacked bar charts, if you choose to do so."
   ]
  },
  {
   "cell_type": "markdown",
   "metadata": {},
   "source": [
    "## Interview Question\n",
    "\n",
    "\n",
    "<details><summary>You are analyzing attrition (employees leaving a company). You have a dataset of all employees, with specific features on their role (department, position, salary, etc.) and whether or not they left the company. Your analysis should indicate how many individuals left the organization and identify any trends associated with attrition (ex. concentration, etc.) What visualizations would you build to communicate your findings to the client? (Answers can - and should - vary!)\n",
    "</summary>\n",
    "    \n",
    "- Since \"left company\" is a categorical variable, we could generate a heatmap comparing these values with other categorical variables like department, position, etc.\n",
    "- We could generate stacked histograms comparing \"left company\" for quantitative variables. For example, visualize salary for those who stayed versus those who left.\n",
    "</details>"
   ]
  },
  {
   "cell_type": "markdown",
   "metadata": {},
   "source": [
    "# Intermediate: Improving the basic visualization.\n",
    "\n",
    "If you're familiar with before/after images, they're a convenient way for us to see how drastically things have changed.\n",
    "\n",
    "<img src=\"./images/santorini_before.jpg\" alt=\"drawing\" width=\"750\"/>\n",
    "\n",
    "<img src=\"./images/santorini_after.jpg\" alt=\"drawing\" width=\"750\"/>\n",
    "\n",
    "- Images pulled from [this site](https://photographyconcentrate.com/15-snazzy-lightroom-and-afters/); recommendation by Shannon Bingham, DSI-US-6.\n",
    "\n",
    "What we've done so far is to create the \"before\" image. We've identified a ***good*** tool for the job. Now let's make it a ***great*** tool.\n",
    "\n",
    "Before getting into a specific list of things to consider, let's head to this blog post about \"[Unmaking Graphs](https://towardsdatascience.com/unmaking-graphs-f584625c5bfd).\""
   ]
  },
  {
   "cell_type": "markdown",
   "metadata": {},
   "source": [
    "**Example 8**: Suppose we wanted to visualize two stock prices over time. It would be helpful to be able to compare these stock prices to one another as well.\n",
    "\n",
    "<details><summary>What type of chart would we likely want to create?</summary>\n",
    "\n",
    "- If we are visualizing the relationship between two variables:\n",
    "    - If both variables are quantitative:\n",
    "        - If one quantitative variable is time:\n",
    "            - If we are visualizing over more than two time points:\n",
    "                - Let's do a line graph!\n",
    "</details>"
   ]
  },
  {
   "cell_type": "code",
   "execution_count": null,
   "metadata": {},
   "outputs": [],
   "source": [
    "import matplotlib.dates as dates\n",
    "import datetime"
   ]
  },
  {
   "cell_type": "code",
   "execution_count": null,
   "metadata": {},
   "outputs": [],
   "source": [
    "# Establish the size of the figure.\n",
    "plt.figure(figsize = (15, 15))\n",
    "\n",
    "# Create two plots. (2 rows, 1 column, referring to 1st plot)\n",
    "plt.subplot(2, 1, 1)\n",
    "\n",
    "# Create line plot of AAPL closing price over time.\n",
    "plt.plot(stocks[stocks['ticker'] == 'AAPL']['date'],\n",
    "         stocks[stocks['ticker'] == 'AAPL']['close'],\n",
    "         c = 'green',\n",
    "         label = 'AAPL')\n",
    "\n",
    "# Create the legend and set it in the upper-right hand corner.\n",
    "plt.legend(loc = 'upper right')\n",
    "\n",
    "# Create a grid in the background.\n",
    "plt.grid(True, linewidth = 3, linestyle = '-.', c = 'black')\n",
    "\n",
    "# Create tick mark labels on the X axis and rotate them.\n",
    "plt.xticks(dates.drange(dstart = datetime.datetime(1997, 1, 1),\n",
    "                        dend = datetime.datetime(2014, 12, 31),\n",
    "                        delta = datetime.timedelta(weeks=26)),\n",
    "           dates.num2date(dates.drange(dstart = datetime.datetime(1997, 1, 1),\n",
    "                        dend = datetime.datetime(2014, 12, 31),\n",
    "                        delta = datetime.timedelta(weeks = 26))), rotation = 45)\n",
    "\n",
    "# Create tick mark labels on the Y axis and rotate them.\n",
    "plt.yticks(rotation = 45)\n",
    "\n",
    "plt.ylabel(\"Price in Dollars\")\n",
    "plt.xlabel(\"Time\")\n",
    "plt.title(\"AAPL and SBUX rates over time\")\n",
    "\n",
    "# Create two plots. (2 rows, 1 column, referring to 2nd plot)\n",
    "plt.subplot(2, 1, 2)\n",
    "\n",
    "# Create line plot of SBUX closing price over time.\n",
    "plt.plot(stocks[stocks['ticker'] == 'SBUX']['date'],\n",
    "         stocks[stocks['ticker'] == 'SBUX']['close'],\n",
    "         c = 'red',\n",
    "         label = 'SBUX')\n",
    "\n",
    "# Create the legend and set it in the upper-left hand corner.\n",
    "plt.legend(loc = 'upper left')\n",
    "\n",
    "# Create a grid in the background.\n",
    "plt.grid(True, linewidth = 3, linestyle = '-.', c = 'black')\n",
    "\n",
    "# Create tick mark labels on the X axis and rotate them.\n",
    "plt.xticks(dates.drange(dstart = datetime.datetime(1997, 1, 1),\n",
    "                        dend = datetime.datetime(2014, 12, 31),\n",
    "                        delta = datetime.timedelta(weeks=26)),\n",
    "           dates.num2date(dates.drange(dstart = datetime.datetime(1997, 1, 1),\n",
    "                        dend = datetime.datetime(2014, 12, 31),\n",
    "                        delta = datetime.timedelta(weeks=26))), rotation = 45)\n",
    "\n",
    "# Create tick mark labels on the Y axis and rotate them.\n",
    "plt.yticks(rotation = 45)\n",
    "\n",
    "# Create X axis label.\n",
    "plt.xlabel(\"Time\")\n",
    "\n",
    "# Create Y axis label.\n",
    "plt.ylabel(\"Price in Dollars\")\n",
    "\n",
    "# Great line when working with multiple subplots; makes sure they're fitted well.\n",
    "plt.tight_layout();"
   ]
  },
  {
   "cell_type": "markdown",
   "metadata": {},
   "source": [
    "<details><summary>Let's critique this. What do you like about these plots? What do you dislike?</summary>\n",
    "\n",
    "- The y-axes are different, so it's hard to directly compare the two together. This could be done more efficiently in one plot.\n",
    "- Red and green together is a bad idea due to colorblindness (a pretty prevalent condition). Let's pick better colors! Blue and orange are good choices for two contrasting colors.\n",
    "- The grid is really \"loud\" and pulls attention from the series we want to study. Can we make it subtler in color and pattern or get rid of it completely?\n",
    "- The x-axis has way too much information. At minimum, we can get rid of the 00:00:00+00:00 because this isn't providing any additional information. However, we can probably get rid of the days/months and make the tick marks less frequent. (We know how years are ordered, so we could just have 1998, 2003, 2008, and 2013 if we wanted!)\n",
    "- Rotating the tick labels makes it tough for us to read the labels. Let's un-rotate them.\n",
    "- We probably don't need the x-axis label. If we see the values 1998, 2003, 2008, and 2013, we can reasonably assume that this means years or time. Since the label isn't giving us any additional information, let's get rid of it!\n",
    "- The title is hard to view. Let's make it larger.\n",
    "- We can increase the size of our legend.\n",
    "- This is a non-exhaustive list!\n",
    "</details>"
   ]
  },
  {
   "cell_type": "code",
   "execution_count": null,
   "metadata": {},
   "outputs": [],
   "source": [
    "# Establish the size of the figure.\n",
    "plt.figure(figsize = (16, 9))\n",
    "\n",
    "# Create line plot of AAPL closing price over time.\n",
    "plt.plot(stocks[stocks['ticker'] == 'AAPL']['date'],\n",
    "         stocks[stocks['ticker'] == 'AAPL']['close'],\n",
    "         c = 'blue',\n",
    "         label = 'AAPL')\n",
    "\n",
    "# Create line plot of SBUX closing price over time.\n",
    "plt.plot(stocks[stocks['ticker'] == 'SBUX']['date'],\n",
    "         stocks[stocks['ticker'] == 'SBUX']['close'],\n",
    "         c = 'orange',\n",
    "         label = 'SBUX')\n",
    "\n",
    "# Create the legend and set it in the upper-left hand corner.\n",
    "plt.legend(loc = 'upper left', fontsize = 20)\n",
    "\n",
    "# Create a grid in the background.\n",
    "plt.grid(True, linewidth = 0.5, linestyle = '-', c = 'black', alpha = 0.1)\n",
    "\n",
    "# Create tick mark labels on the Y axis and rotate them.\n",
    "plt.xticks(fontsize = 20)\n",
    "plt.yticks(fontsize = 20)\n",
    "\n",
    "# Create title.\n",
    "plt.title(\"Apple's stock price has beaten Starbucks' since 2005.\", fontsize = 30);"
   ]
  },
  {
   "cell_type": "code",
   "execution_count": null,
   "metadata": {},
   "outputs": [],
   "source": [
    "# Establish the size of the figure.\n",
    "plt.figure(figsize = (16, 9))\n",
    "\n",
    "# Create line plot of AAPL closing price over time.\n",
    "plt.plot(stocks[stocks['ticker'] == 'AAPL']['date'],\n",
    "         stocks[stocks['ticker'] == 'AAPL']['close'],\n",
    "         c = 'blue',\n",
    "         label = 'AAPL')\n",
    "\n",
    "# Create line plot of SBUX closing price over time.\n",
    "plt.plot(stocks[stocks['ticker'] == 'SBUX']['date'],\n",
    "         stocks[stocks['ticker'] == 'SBUX']['close'],\n",
    "         c = 'orange',\n",
    "         label = 'SBUX')\n",
    "\n",
    "# Create the legend and set it in the upper-left hand corner.\n",
    "plt.legend(loc = 'upper left', fontsize = 20)\n",
    "\n",
    "# Create a grid in the background.\n",
    "plt.grid(True, linewidth = 0.5, linestyle = '-', c = 'black', alpha = 0.1)\n",
    "\n",
    "# Create tick mark labels on the Y axis and rotate them.\n",
    "plt.xticks(fontsize = 20)\n",
    "plt.yticks(fontsize = 20)\n",
    "\n",
    "# Create title.\n",
    "plt.title(\"Apple's stock price has beaten Starbucks' since 2005.\", fontsize = 30)\n",
    "\n",
    "# Add vertical line (vlines) to specifically identify the point of interest.\n",
    "plt.vlines(x = datetime.datetime(2005, 1, 1), ymin = 0, ymax = 700, color = 'darkgrey');"
   ]
  },
  {
   "cell_type": "markdown",
   "metadata": {},
   "source": [
    "If you want to be more creative, [here](https://matplotlib.org/3.1.0/gallery/color/named_colors.html) are all the colors you can use in matplotlib!"
   ]
  },
  {
   "cell_type": "markdown",
   "metadata": {
    "collapsed": true
   },
   "source": [
    "## When de-cluttering, here is an incomplete list of things to consider doing:\n",
    "### Chart Types\n",
    "##### Take away pie charts. (Use a bar chart instead!)\n",
    "    \n",
    "![](./images/pie_chart.png)\n",
    "    \n",
    "##### Take away 3D charts (especially pie charts)!\n",
    "    \n",
    "![](./images/3d_pie_chart.jpg)\n",
    "![](./images/3d_column_chart.jpg)\n",
    "\n",
    "##### Take away secondary y-axes.\n",
    "    \n",
    "![](./images/secondary_y_axis.png)\n",
    "\n",
    "### Use color effectively.\n",
    "    - Avoid red/green.\n",
    "    - Use a gradient.\n",
    "    \n",
    "![](./images/color-bar-chart.png)\n",
    "\n",
    "    - Remove background color.\n",
    "    - Color should emphasize.\n",
    "    - There are ways to emphasize other than color! (Size, a label, proximity, etc.) If you are concerned that your image is too \"cluttered,\" then consider toning down your use of color.\n",
    "    \n",
    "### Axes\n",
    "    - Don't rotate labels.\n",
    "    - Consider rotating your chart if your axis labels are too large.\n",
    "    - Move borders to light grey.\n",
    "    - Remove grid.\n",
    "    \n",
    "### Other\n",
    "    - Place legend properly (if needed).\n",
    "    - If lots of small categories/extreme values, consider collapsing/truncating them.\n",
    "    - Order categories in sensical order. If a logical/sensical order does not exist, then from largest value to smallest value."
   ]
  },
  {
   "cell_type": "markdown",
   "metadata": {
    "collapsed": true
   },
   "source": [
    "---\n",
    "## Crafting the experience:\n",
    "    - Use smart chart title.    \n",
    "    - Align along vertical axis.\n",
    "    - Use bold to emphasize text. (But don't bold everything! Recommendations include to bold at most 10% of your text.)\n",
    "    - If there is a lot going on, then walk people through it slowly.\n",
    "\n",
    "<img src=\"./images/investment_1.png\" width=\"500\">\n",
    "\n",
    "<img src=\"./images/investment_2.png\" width=\"500\">"
   ]
  },
  {
   "cell_type": "markdown",
   "metadata": {},
   "source": [
    "# Bonus: Adding interactivity to visualizations with `bokeh`.\n",
    "\n",
    "The [Bokeh](https://bokeh.pydata.org/en/latest/) library is a wonderful library that enables us to create interactive visualizations. The library is built in Python, but is built on top of Javascript.\n",
    "- This means that we get to work in Python, but our Python code will get the benefits of what Javascript can do!\n",
    "\n",
    "If you want to generate your own interactive visuals, I encourage you to check out the [Bokeh gallery](https://bokeh.pydata.org/en/latest/docs/gallery.html), then edit from there."
   ]
  },
  {
   "cell_type": "code",
   "execution_count": null,
   "metadata": {},
   "outputs": [],
   "source": [
    "# you may need to pip install bokeh in your terminal\n",
    "# or run:\n",
    "# !pip install bokeh"
   ]
  },
  {
   "cell_type": "code",
   "execution_count": null,
   "metadata": {},
   "outputs": [],
   "source": [
    "# This example is pulled directly from https://bokeh.pydata.org/en/latest/docs/gallery/range_tool.html\n",
    "# with minor edits being made, mostly to add comments.\n",
    "\n",
    "from bokeh.io import show, output_notebook\n",
    "from bokeh.layouts import column\n",
    "from bokeh.models import ColumnDataSource, RangeTool\n",
    "from bokeh.plotting import figure\n",
    "\n",
    "#from bokeh.sampledata.stocks import AAPL\n",
    "\n",
    "# Put AAPL stock into a NumPy array.\n",
    "dates = np.array(stocks[stocks['ticker'] == 'AAPL']['date'], dtype=np.datetime64)\n",
    "\n",
    "# Specify the data.\n",
    "source = ColumnDataSource(data = dict(date = dates, close = stocks[stocks['ticker'] == 'AAPL']['close']))\n",
    "\n",
    "# Generate the top plot.\n",
    "p = figure(plot_height = 300,          # What is the height of the top plot? \n",
    "           plot_width = 800,           # What is the width of the top plot? \n",
    "           tools = \"xpan\",             # No tools.\n",
    "           toolbar_location = None,    # No toolbar.\n",
    "           x_axis_type = \"datetime\",   # X-axis has a specific type: datetime. Ensures dates appear properly.\n",
    "           x_axis_location = \"above\",  # Y-axis needs no specific formatting/typing.\n",
    "           background_fill_color = \"#efefef\",     # Specify background color.\n",
    "           x_range = (dates[1500], dates[2500]))  # Specify starting x-range for top plot. (1,500th through 2,500th value.)\n",
    "\n",
    "# Specify the line being generated (similar to plt.plot()).\n",
    "p.line('date', 'close', source = source)\n",
    "\n",
    "# Setting label on the y-axis (vertical axis).\n",
    "p.yaxis.axis_label = 'Price'\n",
    "\n",
    "# Generate the bottom plot.\n",
    "select = figure(title = \"Drag the middle and edges of the selection box to change the range above\", # Title of the plot.\n",
    "                plot_height = 130,     # What is the height of the bottom plot? \n",
    "                plot_width = 800,      # What is the width of the bottom plot? \n",
    "                y_range = p.y_range,   # Make sure that the y-axes have the same height for both top and bottom plots.\n",
    "                x_axis_type = \"datetime\",          # X-axis has a specific type: datetime. Ensures dates appear properly.\n",
    "                y_axis_type = None,                # Y-axis needs no specific formatting/typing.\n",
    "                tools = \"\",                        # No tools. (For now; one will be added later.)\n",
    "                toolbar_location = None,           # No toolbar.\n",
    "                background_fill_color = \"#efefef\") # Specify background color.\n",
    "\n",
    "# Set up the \"range tool\" in the bottom plot.\n",
    "range_rool = RangeTool(x_range = p.x_range) # Make sure the x-axes have the same width for the top and bottom plots.\n",
    "range_rool.overlay.fill_color = \"navy\"    # Color the \"range tool\" box navy.\n",
    "range_rool.overlay.fill_alpha = 0.2       # Make the \"range tool\" box 80% transparent.\n",
    "\n",
    "# Specify the line being generated (similar to plt.plot()).\n",
    "select.line('date', 'close', source = source)\n",
    "\n",
    "# No grid.\n",
    "select.ygrid.grid_line_color = None\n",
    "\n",
    "# Add the range_rool tool to the select plot.\n",
    "select.add_tools(range_rool)\n",
    "select.toolbar.active_multi = range_rool\n",
    "\n",
    "# Make our results show up in our Jupyter notebook.\n",
    "output_notebook()\n",
    "\n",
    "# If you want the results to show up in a .html file,\n",
    "# run \"from bokeh.io import output_file\"\n",
    "# then run \"output_file('./filename.html')\"\n",
    "\n",
    "# Display these in a column with our plot (p) above the select tool in one column.\n",
    "show(column(p, select))"
   ]
  },
  {
   "cell_type": "markdown",
   "metadata": {},
   "source": [
    "<details><summary>What is a situation in which this visual would work well?</summary>\n",
    "- When you're measuring something over a long period of time and want to be able to view the whole thing and also more granularly see individual shifts.\n",
    "</details>"
   ]
  },
  {
   "cell_type": "markdown",
   "metadata": {},
   "source": [
    "Interactivity is something that you will generally consider using in the following cases:\n",
    "1. When you want to visualize more than 3-4 variables at the same time.\n",
    "    - Example [here](https://gapminder.org/tools/#$chart-type=bubbles).\n",
    "2. When you want your visual to show macro (large) trends but also allow your user to get additional detail on the micro level if desired.\n",
    "    - Example [here](http://www.nytimes.com/interactive/2012/10/15/us/politics/swing-history.html?_r=2&)."
   ]
  }
 ],
 "metadata": {
  "kernelspec": {
   "display_name": "Python 3",
   "language": "python",
   "name": "python3"
  },
  "language_info": {
   "codemirror_mode": {
    "name": "ipython",
    "version": 3
   },
   "file_extension": ".py",
   "mimetype": "text/x-python",
   "name": "python",
   "nbconvert_exporter": "python",
   "pygments_lexer": "ipython3",
   "version": "3.8.5"
  }
 },
 "nbformat": 4,
 "nbformat_minor": 2
}
